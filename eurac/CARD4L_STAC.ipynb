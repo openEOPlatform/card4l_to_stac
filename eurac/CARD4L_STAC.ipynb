{
 "cells": [
  {
   "cell_type": "code",
   "execution_count": 3,
   "metadata": {},
   "outputs": [],
   "source": [
    "from xml.dom import minidom\n",
    "import json "
   ]
  },
  {
   "cell_type": "code",
   "execution_count": 23,
   "metadata": {},
   "outputs": [],
   "source": [
    "card4l_xml = 'card4l_meta.xml'\n",
    "card4l = minidom.parse(card4l_xml)"
   ]
  },
  {
   "cell_type": "code",
   "execution_count": 36,
   "metadata": {},
   "outputs": [
    {
     "name": "stdout",
     "output_type": "stream",
     "text": [
      "GeographicalBoundingBox\n",
      "GeographicalBoundingBox\n",
      "1\n",
      "None\n",
      "UR\n",
      "150.0\n",
      "-25.0\n",
      "LL\n",
      "149.0\n",
      "-26.0\n"
     ]
    }
   ],
   "source": [
    "geographicalBoundingBox = card4l.getElementsByTagName('GeographicalBoundingBox')\n",
    "west=0\n",
    "east=0\n",
    "south=0\n",
    "north=0\n",
    "print(geographicalBoundingBox[0].tagName)\n",
    "print(geographicalBoundingBox[0].nodeName)\n",
    "print(geographicalBoundingBox[0].nodeType)\n",
    "print(geographicalBoundingBox[0].nodeValue)\n",
    "for index in range(len(geographicalBoundingBox)):\n",
    "    if (geographicalBoundingBox[index].attributes['corner'].value == 'LL'):\n",
    "        west = geographicalBoundingBox[index].getElementsByTagName('Longitude')[0].childNodes[0].data\n",
    "        south = geographicalBoundingBox[index].getElementsByTagName('Latitude')[0].childNodes[0].data\n",
    "        print(geographicalBoundingBox[index].attributes['corner'].value)\n",
    "        print(west)\n",
    "        print(south)\n",
    "    if (geographicalBoundingBox[index].attributes['corner'].value == 'UR'):\n",
    "        east = geographicalBoundingBox[index].getElementsByTagName('Longitude')[0].childNodes[0].data\n",
    "        north = geographicalBoundingBox[index].getElementsByTagName('Latitude')[0].childNodes[0].data\n",
    "        print(geographicalBoundingBox[index].attributes['corner'].value)\n",
    "        print(east)\n",
    "        print(north)"
   ]
  },
  {
   "cell_type": "code",
   "execution_count": 27,
   "metadata": {},
   "outputs": [
    {
     "name": "stdout",
     "output_type": "stream",
     "text": [
      "s1_nrb_034C2E_S26E149_2019_09_17_ANGLE.tif\n",
      "s1_nrb_034C2E_S26E149_2019_09_17_AREA.tif\n",
      "s1_nrb_034C2E_S26E149_2019_09_17_MASK.tif\n",
      "s1_nrb_034C2E_S26E149_2019_09_17_HH.tif\n"
     ]
    }
   ],
   "source": [
    "satelliteName = card4l.getElementsByTagName('SatelliteName')[0].firstChild.data\n",
    "lia = card4l.getElementsByTagName('LocalIncAngle')\n",
    "liaFileName = lia[0].getElementsByTagName('FileName')[0].childNodes[0].data\n",
    "print(liaFileName)\n",
    "area = card4l.getElementsByTagName('LocalContributingArea')\n",
    "areaFileName = area[0].getElementsByTagName('FileName')[0].childNodes[0].data\n",
    "print(areaFileName)\n",
    "mask = card4l.getElementsByTagName('DataMask')\n",
    "maskFileName = mask[0].getElementsByTagName('FileName')[0].childNodes[0].data\n",
    "print(maskFileName)\n",
    "backScatterData = card4l.getElementsByTagName('BackscatterMeasurementData')\n",
    "polarization = backScatterData[0].getElementsByTagName('Polarization')[0].childNodes[0].data\n",
    "polarization_metaFileName = backScatterData[0].getElementsByTagName('FileName')[0].childNodes[0].data\n",
    "print(polarization_metaFileName)"
   ]
  },
  {
   "cell_type": "code",
   "execution_count": 8,
   "metadata": {},
   "outputs": [],
   "source": [
    "# Create your dictionary class  \n",
    "class stac_dictionary(dict):  \n",
    "  \n",
    "    # __init__ function  \n",
    "    def __init__(self):  \n",
    "        self = dict()  \n",
    "          \n",
    "    # Function to add key:value  \n",
    "    def add(self, key, value):  \n",
    "        self[key] = value"
   ]
  },
  {
   "cell_type": "code",
   "execution_count": 32,
   "metadata": {},
   "outputs": [
    {
     "name": "stdout",
     "output_type": "stream",
     "text": [
      "{'stac_version': '1.0.0-beta.2', 'type': 'Feature', 'stac_extensions': ['sat', 'sar', 'projection'], 'bbox': ['149.0', '-26.0', '150.0', '-25.0'], 'properties': {'constellation': 'Sentinel-1'}, 'assets': {'angle': {'description': 'local incidence angle', 'title': 's1_nrb_034C2E_S26E149_2019_09_17_ANGLE.tif'}, 'area': {'description': 'normalized scattering area', 'title': 's1_nrb_034C2E_S26E149_2019_09_17_AREA.tif'}, 'mask': {'description': 'data mask', 'title': 's1_nrb_034C2E_S26E149_2019_09_17_MASK.tif'}, 'HH': {'description': 'Polarization HH', 'title': 's1_nrb_034C2E_S26E149_2019_09_17_HH.tif', 'sar:polarization': 'HH'}, 'metadata': {'title': 'card4l_meta.xml'}}}\n"
     ]
    }
   ],
   "source": [
    "stac = stac_dictionary()\n",
    "stac.add('stac_version', '1.0.0-beta.2')\n",
    "stac.add('type', 'Feature')\n",
    "stac.add('stac_extensions', [\"sat\", \"sar\", \"projection\"])\n",
    "stac.add('bbox', [west, south, east, north])\n",
    "properties = stac_dictionary()\n",
    "properties.add('constellation', satelliteName)\n",
    "stac.add('properties', properties)\n",
    "assets = stac_dictionary()\n",
    "angle = stac_dictionary()\n",
    "angle.add('description', 'local incidence angle')\n",
    "angle.add('title', liaFileName)\n",
    "assets.add('angle', angle)\n",
    "area = stac_dictionary()\n",
    "area.add('description', 'normalized scattering area')\n",
    "area.add('title', areaFileName)\n",
    "assets.add('area', area)\n",
    "mask = stac_dictionary()\n",
    "mask.add('description', 'data mask')\n",
    "mask.add('title', maskFileName)\n",
    "assets.add('mask', mask)\n",
    "polarization_meta = stac_dictionary()\n",
    "polarization_meta.add('description', 'Polarization '+polarization)\n",
    "polarization_meta.add('title', polarization_metaFileName)\n",
    "polarization_meta.add('sar:polarization', polarization)\n",
    "assets.add(polarization, polarization_meta)\n",
    "metadata = stac_dictionary()\n",
    "metadata.add('title', card4l_xml)\n",
    "assets.add('metadata', metadata)\n",
    "stac.add('assets', assets)\n",
    "print(stac)"
   ]
  },
  {
   "cell_type": "code",
   "execution_count": 33,
   "metadata": {},
   "outputs": [
    {
     "name": "stdout",
     "output_type": "stream",
     "text": [
      "{\n",
      "  \"stac_version\": \"1.0.0-beta.2\",\n",
      "  \"type\": \"Feature\",\n",
      "  \"stac_extensions\": [\n",
      "    \"sat\",\n",
      "    \"sar\",\n",
      "    \"projection\"\n",
      "  ],\n",
      "  \"bbox\": [\n",
      "    \"149.0\",\n",
      "    \"-26.0\",\n",
      "    \"150.0\",\n",
      "    \"-25.0\"\n",
      "  ],\n",
      "  \"properties\": {\n",
      "    \"constellation\": \"Sentinel-1\"\n",
      "  },\n",
      "  \"assets\": {\n",
      "    \"angle\": {\n",
      "      \"description\": \"local incidence angle\",\n",
      "      \"title\": \"s1_nrb_034C2E_S26E149_2019_09_17_ANGLE.tif\"\n",
      "    },\n",
      "    \"area\": {\n",
      "      \"description\": \"normalized scattering area\",\n",
      "      \"title\": \"s1_nrb_034C2E_S26E149_2019_09_17_AREA.tif\"\n",
      "    },\n",
      "    \"mask\": {\n",
      "      \"description\": \"data mask\",\n",
      "      \"title\": \"s1_nrb_034C2E_S26E149_2019_09_17_MASK.tif\"\n",
      "    },\n",
      "    \"HH\": {\n",
      "      \"description\": \"Polarization HH\",\n",
      "      \"title\": \"s1_nrb_034C2E_S26E149_2019_09_17_HH.tif\",\n",
      "      \"sar:polarization\": \"HH\"\n",
      "    },\n",
      "    \"metadata\": {\n",
      "      \"title\": \"card4l_meta.xml\"\n",
      "    }\n",
      "  }\n",
      "}\n"
     ]
    }
   ],
   "source": [
    "print(json.dumps(stac, indent=2))"
   ]
  },
  {
   "cell_type": "code",
   "execution_count": null,
   "metadata": {},
   "outputs": [],
   "source": []
  },
  {
   "cell_type": "code",
   "execution_count": 37,
   "metadata": {},
   "outputs": [
    {
     "name": "stdout",
     "output_type": "stream",
     "text": [
      "UL\n",
      "UR\n",
      "LL\n",
      "LR\n"
     ]
    }
   ],
   "source": [
    "productAttributes = card4l.getElementsByTagName('ProductAttributes')\n",
    "for title in productAttributes:\n",
    "        nodes = title.childNodes\n",
    "        for node in nodes:\n",
    "            if (node.nodeType == node.ELEMENT_NODE) and (node.tagName == 'GeographicalBoundingBox'):\n",
    "                print(node.attributes['corner'].value)"
   ]
  },
  {
   "cell_type": "code",
   "execution_count": null,
   "metadata": {},
   "outputs": [],
   "source": []
  }
 ],
 "metadata": {
  "kernelspec": {
   "display_name": "Python 3",
   "language": "python",
   "name": "python3"
  },
  "language_info": {
   "codemirror_mode": {
    "name": "ipython",
    "version": 3
   },
   "file_extension": ".py",
   "mimetype": "text/x-python",
   "name": "python",
   "nbconvert_exporter": "python",
   "pygments_lexer": "ipython3",
   "version": "3.7.3"
  }
 },
 "nbformat": 4,
 "nbformat_minor": 4
}
